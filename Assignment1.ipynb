{
 "cells": [
  {
   "cell_type": "markdown",
   "id": "a2be2648-9d00-49fd-b47a-679fb0fe6ab9",
   "metadata": {},
   "source": [
    "Q1-->"
   ]
  },
  {
   "cell_type": "code",
   "execution_count": 3,
   "id": "a2e11ec3-c5b1-4c94-b144-e054a4557cd3",
   "metadata": {
    "tags": []
   },
   "outputs": [],
   "source": [
    "#string\n",
    "a=\"name\"\n",
    "#list\n",
    "l=[1,23,4,5]\n",
    "#float\n",
    "f =2.34\n",
    "#tuple\n",
    "t=(1,23,4,5)"
   ]
  },
  {
   "cell_type": "markdown",
   "id": "f4ab49b0-fc95-4ad0-8afc-660e3fb84d06",
   "metadata": {},
   "source": [
    "Q2-->"
   ]
  },
  {
   "cell_type": "code",
   "execution_count": 10,
   "id": "2b55914c-51fb-4ee0-accd-6b50bb8f5bb1",
   "metadata": {
    "tags": []
   },
   "outputs": [],
   "source": [
    "#(i)\n",
    "var1='' #-->string\n",
    "var2='[DS,Ml,Python]' #-->string\n",
    "var3 = [ 'DS' , 'ML' , 'Python' ] #-->list\n",
    "var4 = 1. #float"
   ]
  },
  {
   "cell_type": "code",
   "execution_count": 14,
   "id": "3f1135fc-f220-4206-bb5e-864622701bfe",
   "metadata": {
    "tags": []
   },
   "outputs": [
    {
     "data": {
      "text/plain": [
       "float"
      ]
     },
     "execution_count": 14,
     "metadata": {},
     "output_type": "execute_result"
    }
   ],
   "source": [
    "type(var4)"
   ]
  },
  {
   "cell_type": "markdown",
   "id": "16063d99-ad88-49fe-88d8-19860c8e6bb8",
   "metadata": {},
   "source": [
    "Q3-->"
   ]
  },
  {
   "cell_type": "code",
   "execution_count": 17,
   "id": "7f7259fb-3556-43fe-a7c0-d80d46d71f8e",
   "metadata": {
    "tags": []
   },
   "outputs": [
    {
     "data": {
      "text/plain": [
       "1.6666666666666667"
      ]
     },
     "execution_count": 17,
     "metadata": {},
     "output_type": "execute_result"
    }
   ],
   "source": [
    "5/3 #-->1.6"
   ]
  },
  {
   "cell_type": "code",
   "execution_count": 16,
   "id": "081318b8-144d-4d1e-b764-5561a23dc77a",
   "metadata": {
    "tags": []
   },
   "outputs": [
    {
     "data": {
      "text/plain": [
       "1"
      ]
     },
     "execution_count": 16,
     "metadata": {},
     "output_type": "execute_result"
    }
   ],
   "source": [
    "5//3 #-->1"
   ]
  },
  {
   "cell_type": "code",
   "execution_count": 18,
   "id": "d35ba258-2df6-4671-a791-fcdef2596b76",
   "metadata": {
    "tags": []
   },
   "outputs": [
    {
     "data": {
      "text/plain": [
       "2"
      ]
     },
     "execution_count": 18,
     "metadata": {},
     "output_type": "execute_result"
    }
   ],
   "source": [
    "5%3 #-->2"
   ]
  },
  {
   "cell_type": "code",
   "execution_count": 20,
   "id": "a0fc33dc-b670-4f05-ab53-742cefdc8feb",
   "metadata": {
    "tags": []
   },
   "outputs": [
    {
     "data": {
      "text/plain": [
       "125"
      ]
     },
     "execution_count": 20,
     "metadata": {},
     "output_type": "execute_result"
    }
   ],
   "source": [
    "5**3 #-->125"
   ]
  },
  {
   "cell_type": "markdown",
   "id": "974ccb6c-045d-44f2-b1d2-8d9f04b14ac2",
   "metadata": {},
   "source": [
    "Q4-->"
   ]
  },
  {
   "cell_type": "code",
   "execution_count": 24,
   "id": "2c645cfa-9006-4253-bdb1-490be4e75f39",
   "metadata": {
    "tags": []
   },
   "outputs": [],
   "source": [
    "l=[1,2,3,4,True,False,\"Hello\",\"World\",2.3045,12]"
   ]
  },
  {
   "cell_type": "code",
   "execution_count": 25,
   "id": "1d7d10b1-612a-42a3-b064-cd94f0a7de04",
   "metadata": {
    "tags": []
   },
   "outputs": [
    {
     "name": "stdout",
     "output_type": "stream",
     "text": [
      "1\n",
      "2\n",
      "3\n",
      "4\n",
      "True\n",
      "False\n",
      "Hello\n",
      "World\n",
      "2.3045\n",
      "12\n"
     ]
    }
   ],
   "source": [
    "for i in l:\n",
    "    print(i)"
   ]
  },
  {
   "cell_type": "markdown",
   "id": "446ad8a2-e42c-447f-8de6-25553e3bd888",
   "metadata": {},
   "source": [
    "Q5-->"
   ]
  },
  {
   "cell_type": "code",
   "execution_count": 30,
   "id": "bd33db2b-32e5-496d-838c-5aec0cc72e0f",
   "metadata": {
    "tags": []
   },
   "outputs": [
    {
     "name": "stdin",
     "output_type": "stream",
     "text": [
      "Enter number :  6\n"
     ]
    },
    {
     "name": "stdout",
     "output_type": "stream",
     "text": [
      "1\n"
     ]
    }
   ],
   "source": [
    "a=int(input(\"Enter number : \"))\n",
    "count = 0 \n",
    "while a%3 == 0:\n",
    "    count+=1\n",
    "    a/=3\n",
    "print(count)"
   ]
  },
  {
   "cell_type": "markdown",
   "id": "a6aa139c-1ba2-4304-87dd-f066f804c993",
   "metadata": {},
   "source": [
    "Q6-->"
   ]
  },
  {
   "cell_type": "code",
   "execution_count": 33,
   "id": "e9d839da-76d6-435c-b87b-37b0c88dd733",
   "metadata": {
    "tags": []
   },
   "outputs": [],
   "source": [
    "l = list(range(1,26))"
   ]
  },
  {
   "cell_type": "code",
   "execution_count": 35,
   "id": "b76b2a98-b60c-4351-90af-5a68efb91fb1",
   "metadata": {
    "tags": []
   },
   "outputs": [
    {
     "name": "stdout",
     "output_type": "stream",
     "text": [
      "3\n",
      "6\n",
      "9\n",
      "12\n",
      "15\n",
      "18\n",
      "21\n",
      "24\n"
     ]
    }
   ],
   "source": [
    "for i in l:\n",
    "    if i%3==0:\n",
    "        print(i)"
   ]
  },
  {
   "cell_type": "markdown",
   "id": "a06b7c30-e777-4a61-ba7e-19a025dc7cc0",
   "metadata": {
    "tags": []
   },
   "source": [
    "Q7-->"
   ]
  },
  {
   "cell_type": "code",
   "execution_count": 43,
   "id": "71e0bd1a-5d40-4d26-b161-d2e9edfe2a97",
   "metadata": {
    "tags": []
   },
   "outputs": [],
   "source": [
    "#mutable data types are datatypes whose data can be modified\n",
    "#immutable data types are datatypes whose data can not be modified\n",
    "\n",
    "l = [1,2,3,4]\n",
    "l[3] = 5"
   ]
  },
  {
   "cell_type": "code",
   "execution_count": 44,
   "id": "b217737f-ccba-48c5-98e9-c6a4145ea68c",
   "metadata": {
    "tags": []
   },
   "outputs": [
    {
     "data": {
      "text/plain": [
       "[1, 2, 3, 5]"
      ]
     },
     "execution_count": 44,
     "metadata": {},
     "output_type": "execute_result"
    }
   ],
   "source": [
    "l"
   ]
  },
  {
   "cell_type": "markdown",
   "id": "8f5190ca-6adf-40aa-bcc1-55b97f29edc6",
   "metadata": {},
   "source": [
    "tuple-->"
   ]
  },
  {
   "cell_type": "code",
   "execution_count": 46,
   "id": "db21fcb4-e78f-411e-90b8-3e8d655342c2",
   "metadata": {
    "tags": []
   },
   "outputs": [
    {
     "ename": "TypeError",
     "evalue": "'tuple' object does not support item assignment",
     "output_type": "error",
     "traceback": [
      "\u001b[1;31m---------------------------------------------------------------------------\u001b[0m",
      "\u001b[1;31mTypeError\u001b[0m                                 Traceback (most recent call last)",
      "Cell \u001b[1;32mIn[46], line 2\u001b[0m\n\u001b[0;32m      1\u001b[0m t \u001b[38;5;241m=\u001b[39m (\u001b[38;5;241m1\u001b[39m,\u001b[38;5;241m2\u001b[39m,\u001b[38;5;241m3\u001b[39m,\u001b[38;5;241m4\u001b[39m)\n\u001b[1;32m----> 2\u001b[0m \u001b[43mt\u001b[49m\u001b[43m[\u001b[49m\u001b[38;5;241;43m3\u001b[39;49m\u001b[43m]\u001b[49m \u001b[38;5;241m=\u001b[39m \u001b[38;5;241m5\u001b[39m \u001b[38;5;66;03m#tuple is immutable\u001b[39;00m\n",
      "\u001b[1;31mTypeError\u001b[0m: 'tuple' object does not support item assignment"
     ]
    }
   ],
   "source": [
    "t = (1,2,3,4)\n",
    "t[3] = 5 #tuple is immutable"
   ]
  },
  {
   "cell_type": "code",
   "execution_count": null,
   "id": "e0da1430-c049-4985-8bc1-99b14fefd10b",
   "metadata": {},
   "outputs": [],
   "source": []
  }
 ],
 "metadata": {
  "kernelspec": {
   "display_name": "Python 3 (ipykernel)",
   "language": "python",
   "name": "python3"
  },
  "language_info": {
   "codemirror_mode": {
    "name": "ipython",
    "version": 3
   },
   "file_extension": ".py",
   "mimetype": "text/x-python",
   "name": "python",
   "nbconvert_exporter": "python",
   "pygments_lexer": "ipython3",
   "version": "3.11.1"
  }
 },
 "nbformat": 4,
 "nbformat_minor": 5
}
