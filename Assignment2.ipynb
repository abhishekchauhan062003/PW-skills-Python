{
 "cells": [
  {
   "cell_type": "markdown",
   "id": "6ea7ce18-279d-4acc-96c2-169fc4b079dd",
   "metadata": {},
   "source": [
    "Q1"
   ]
  },
  {
   "cell_type": "markdown",
   "id": "6e7f7f2b-6399-4ac4-b71e-8d1c651abc08",
   "metadata": {},
   "source": [
    "comments are of two type in python"
   ]
  },
  {
   "cell_type": "raw",
   "id": "944f843a-8385-4b16-8a30-b351cb5abe1d",
   "metadata": {},
   "source": [
    "1. single line \n",
    "2. muti-line"
   ]
  },
  {
   "cell_type": "code",
   "execution_count": 1,
   "id": "85ed173a-07b2-4ab8-9ffd-d8e392d253a1",
   "metadata": {
    "tags": []
   },
   "outputs": [],
   "source": [
    "#single line"
   ]
  },
  {
   "cell_type": "code",
   "execution_count": 2,
   "id": "5ae6d526-cb2f-4dd8-97f6-cae91e8a5735",
   "metadata": {
    "tags": []
   },
   "outputs": [
    {
     "data": {
      "text/plain": [
       "' multiline \\ncomments'"
      ]
     },
     "execution_count": 2,
     "metadata": {},
     "output_type": "execute_result"
    }
   ],
   "source": [
    "''' multiline \n",
    "comments'''"
   ]
  },
  {
   "cell_type": "code",
   "execution_count": 4,
   "id": "9b8b26f1-28e7-4424-92dd-088742ed959c",
   "metadata": {
    "tags": []
   },
   "outputs": [
    {
     "data": {
      "text/plain": [
       "' also \\nmultiline \\ncomment '"
      ]
     },
     "execution_count": 4,
     "metadata": {},
     "output_type": "execute_result"
    }
   ],
   "source": [
    "\"\"\" also \n",
    "multiline \n",
    "comment \"\"\""
   ]
  },
  {
   "cell_type": "markdown",
   "id": "50a46670-9e1e-42f6-a3b0-1dde2db96772",
   "metadata": {},
   "source": [
    "Q2"
   ]
  },
  {
   "cell_type": "raw",
   "id": "3fe271a2-7749-430f-b82e-10b46a43b96d",
   "metadata": {
    "tags": []
   },
   "source": [
    "variable are containers that store some value in the memory"
   ]
  },
  {
   "cell_type": "raw",
   "id": "073752f7-3cea-48fe-88a6-d465711ce223",
   "metadata": {},
   "source": [
    "in python it is simple to create a variale you just need to \n",
    "<name_of_Variable> = <Data>\n",
    "unlike other languages u dont need to specify data type it sets itself depending upon data"
   ]
  },
  {
   "cell_type": "markdown",
   "id": "17b11952-a5e5-4a74-aea3-bc048272d394",
   "metadata": {},
   "source": [
    "Q3"
   ]
  },
  {
   "cell_type": "raw",
   "id": "8598a71b-b3ea-42b2-a232-f4a2f7069edd",
   "metadata": {
    "tags": []
   },
   "source": [
    "Type casting in python"
   ]
  },
  {
   "cell_type": "code",
   "execution_count": 10,
   "id": "9210730d-5793-42a5-94c6-ab2ff95dcbdf",
   "metadata": {
    "tags": []
   },
   "outputs": [],
   "source": [
    "# <Desired_data_type>(<Data>) for ex"
   ]
  },
  {
   "cell_type": "code",
   "execution_count": 13,
   "id": "031341fd-0ac1-464e-bc43-570a093f21c4",
   "metadata": {
    "tags": []
   },
   "outputs": [
    {
     "data": {
      "text/plain": [
       "1102"
      ]
     },
     "execution_count": 13,
     "metadata": {},
     "output_type": "execute_result"
    }
   ],
   "source": [
    "int(\"1102\") #str -> int"
   ]
  },
  {
   "cell_type": "markdown",
   "id": "4bae3804-af44-4acd-84fb-c9cbced12c0a",
   "metadata": {
    "tags": []
   },
   "source": [
    "Q4"
   ]
  },
  {
   "cell_type": "raw",
   "id": "5e8f5af1-c1da-4b2d-8dde-8be9315118b3",
   "metadata": {
    "tags": []
   },
   "source": [
    "Python3 Assignment.py"
   ]
  },
  {
   "cell_type": "markdown",
   "id": "832bfeae-acbf-41a7-a899-4369499bb0ef",
   "metadata": {},
   "source": [
    "Q5"
   ]
  },
  {
   "cell_type": "code",
   "execution_count": 18,
   "id": "d4c7b877-e1d3-4e3b-9601-40f1c26c838b",
   "metadata": {
    "tags": []
   },
   "outputs": [],
   "source": [
    "my_list = [1, 2, 3, 4, 5]"
   ]
  },
  {
   "cell_type": "code",
   "execution_count": 20,
   "id": "1a46e254-fa8a-4f84-9d9f-6a929e9e5647",
   "metadata": {
    "tags": []
   },
   "outputs": [
    {
     "data": {
      "text/plain": [
       "[3]"
      ]
     },
     "execution_count": 20,
     "metadata": {},
     "output_type": "execute_result"
    }
   ],
   "source": [
    "my_list[2:3]"
   ]
  },
  {
   "cell_type": "markdown",
   "id": "7396c667-4c30-46b9-86ad-e689d537abe3",
   "metadata": {},
   "source": [
    "Q6"
   ]
  },
  {
   "cell_type": "code",
   "execution_count": 21,
   "id": "13d2cc50-8d0f-46ce-ab3d-f2d726d5e8b0",
   "metadata": {
    "tags": []
   },
   "outputs": [],
   "source": [
    "#complex numbers"
   ]
  },
  {
   "cell_type": "code",
   "execution_count": 22,
   "id": "592a2ec7-141a-414e-9ffb-8f9f3d69d2c4",
   "metadata": {
    "tags": []
   },
   "outputs": [],
   "source": [
    "c = 5+2j"
   ]
  },
  {
   "cell_type": "code",
   "execution_count": 23,
   "id": "374dad07-e9f9-434d-abee-23de16378a7f",
   "metadata": {
    "tags": []
   },
   "outputs": [
    {
     "data": {
      "text/plain": [
       "(5+2j)"
      ]
     },
     "execution_count": 23,
     "metadata": {},
     "output_type": "execute_result"
    }
   ],
   "source": [
    "c"
   ]
  },
  {
   "cell_type": "markdown",
   "id": "55cf9855-7a59-4c96-8bd2-614cb855fd8e",
   "metadata": {},
   "source": [
    "Q7"
   ]
  },
  {
   "cell_type": "code",
   "execution_count": 24,
   "id": "65350ae3-8e04-4706-ac82-52826ff39582",
   "metadata": {
    "tags": []
   },
   "outputs": [],
   "source": [
    "age = 25"
   ]
  },
  {
   "cell_type": "code",
   "execution_count": 25,
   "id": "369161f8-d8af-4f16-80f0-7f85ada8180c",
   "metadata": {
    "tags": []
   },
   "outputs": [
    {
     "data": {
      "text/plain": [
       "25"
      ]
     },
     "execution_count": 25,
     "metadata": {},
     "output_type": "execute_result"
    }
   ],
   "source": [
    "age"
   ]
  },
  {
   "cell_type": "markdown",
   "id": "3fbdc03f-f17b-496d-bf50-e4411912531c",
   "metadata": {},
   "source": [
    "Q8"
   ]
  },
  {
   "cell_type": "code",
   "execution_count": 29,
   "id": "72750861-8c21-4383-bb35-1197ae4d2b55",
   "metadata": {
    "tags": []
   },
   "outputs": [],
   "source": [
    "price = 9.99 #->float"
   ]
  },
  {
   "cell_type": "code",
   "execution_count": 28,
   "id": "35f1417a-f7d3-46b9-aea5-a7d2303241f5",
   "metadata": {
    "tags": []
   },
   "outputs": [
    {
     "data": {
      "text/plain": [
       "float"
      ]
     },
     "execution_count": 28,
     "metadata": {},
     "output_type": "execute_result"
    }
   ],
   "source": [
    "type(price)"
   ]
  },
  {
   "cell_type": "markdown",
   "id": "99717590-0d3f-487c-8d2d-c956b3f508d9",
   "metadata": {},
   "source": [
    "Q9"
   ]
  },
  {
   "cell_type": "code",
   "execution_count": 30,
   "id": "52e3d601-0cde-4960-a676-0c96f3d9c030",
   "metadata": {
    "tags": []
   },
   "outputs": [],
   "source": [
    "name = \"Abhishek Chauhan\""
   ]
  },
  {
   "cell_type": "code",
   "execution_count": 31,
   "id": "8d900094-c5e1-4126-bb24-96b593d2e632",
   "metadata": {
    "tags": []
   },
   "outputs": [
    {
     "name": "stdout",
     "output_type": "stream",
     "text": [
      "Abhishek Chauhan\n"
     ]
    }
   ],
   "source": [
    "print(name)"
   ]
  },
  {
   "cell_type": "markdown",
   "id": "7d274f75-0258-4f8a-9f0b-1be366c66ba4",
   "metadata": {},
   "source": [
    "Q10"
   ]
  },
  {
   "cell_type": "code",
   "execution_count": 32,
   "id": "28120954-ce39-4414-bbc3-73b9d58fe241",
   "metadata": {
    "tags": []
   },
   "outputs": [],
   "source": [
    "s = \"Hello, World!\""
   ]
  },
  {
   "cell_type": "code",
   "execution_count": 33,
   "id": "d6588412-530e-4c1a-8add-63c8f2f9869b",
   "metadata": {
    "tags": []
   },
   "outputs": [
    {
     "data": {
      "text/plain": [
       "'World'"
      ]
     },
     "execution_count": 33,
     "metadata": {},
     "output_type": "execute_result"
    }
   ],
   "source": [
    "s[7:-1]"
   ]
  },
  {
   "cell_type": "markdown",
   "id": "4493c27e-8bea-4428-9d3a-6cefa837f131",
   "metadata": {},
   "source": [
    "Q11"
   ]
  },
  {
   "cell_type": "code",
   "execution_count": 34,
   "id": "395b46d6-ec61-4603-863e-2da8f1adbaf3",
   "metadata": {
    "tags": []
   },
   "outputs": [],
   "source": [
    "is_student = True"
   ]
  },
  {
   "cell_type": "code",
   "execution_count": null,
   "id": "bff2aee9-3eae-41d2-9f11-813b5ccc593e",
   "metadata": {},
   "outputs": [],
   "source": []
  }
 ],
 "metadata": {
  "kernelspec": {
   "display_name": "Python 3 (ipykernel)",
   "language": "python",
   "name": "python3"
  },
  "language_info": {
   "codemirror_mode": {
    "name": "ipython",
    "version": 3
   },
   "file_extension": ".py",
   "mimetype": "text/x-python",
   "name": "python",
   "nbconvert_exporter": "python",
   "pygments_lexer": "ipython3",
   "version": "3.11.1"
  }
 },
 "nbformat": 4,
 "nbformat_minor": 5
}
