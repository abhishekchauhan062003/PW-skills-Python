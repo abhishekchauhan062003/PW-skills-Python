{
 "cells": [
  {
   "cell_type": "markdown",
   "id": "3538cec6-45de-4675-9018-974a1116db7f",
   "metadata": {
    "tags": []
   },
   "source": [
    "Q1"
   ]
  },
  {
   "cell_type": "raw",
   "id": "297334fc-35af-4605-be76-3153adb0a187",
   "metadata": {},
   "source": [
    "def keyword is used to create a function"
   ]
  },
  {
   "cell_type": "code",
   "execution_count": 1,
   "id": "86cfbff2-da2c-4498-b86b-41dcb0c66d50",
   "metadata": {
    "tags": []
   },
   "outputs": [],
   "source": [
    "def oddNumber():\n",
    "    ans=[]\n",
    "    for i in range(1,26):\n",
    "        if i%2!=0:\n",
    "            ans.append(i)\n",
    "    return ans"
   ]
  },
  {
   "cell_type": "code",
   "execution_count": 2,
   "id": "6b12f89f-bb6b-4e76-9065-6bb7eee4de47",
   "metadata": {
    "tags": []
   },
   "outputs": [
    {
     "data": {
      "text/plain": [
       "[1, 3, 5, 7, 9, 11, 13, 15, 17, 19, 21, 23, 25]"
      ]
     },
     "execution_count": 2,
     "metadata": {},
     "output_type": "execute_result"
    }
   ],
   "source": [
    "oddNumber()"
   ]
  },
  {
   "cell_type": "markdown",
   "id": "a69eaf5c-9891-48a2-913a-add741b07bd9",
   "metadata": {},
   "source": [
    "Q2"
   ]
  },
  {
   "cell_type": "raw",
   "id": "1672fe37-1df8-4af5-a470-a49e5e1b886d",
   "metadata": {},
   "source": [
    "* in arguments to a function is used to get unknown numberr of inputs and stores data in form of tuple"
   ]
  },
  {
   "cell_type": "raw",
   "id": "313bcf0e-3bac-41d0-9196-928ffb7d0157",
   "metadata": {},
   "source": [
    "** before argumnet refers to dictionry input and stores data in the form of dictionary"
   ]
  },
  {
   "cell_type": "code",
   "execution_count": 7,
   "id": "e10435b4-6aca-4343-b66e-cf800665ceb8",
   "metadata": {
    "tags": []
   },
   "outputs": [],
   "source": [
    "def args(*a):\n",
    "    return a"
   ]
  },
  {
   "cell_type": "code",
   "execution_count": 8,
   "id": "96f6066b-c038-4f29-bed7-1ff4503834d2",
   "metadata": {
    "tags": []
   },
   "outputs": [
    {
     "data": {
      "text/plain": [
       "(10, 20, 30)"
      ]
     },
     "execution_count": 8,
     "metadata": {},
     "output_type": "execute_result"
    }
   ],
   "source": [
    "args(10,20,30)"
   ]
  },
  {
   "cell_type": "code",
   "execution_count": 9,
   "id": "3a52067a-5db0-44cd-8b62-ea0e084aa927",
   "metadata": {
    "tags": []
   },
   "outputs": [],
   "source": [
    "def args(**b):\n",
    "    return b"
   ]
  },
  {
   "cell_type": "code",
   "execution_count": 10,
   "id": "b42b5f40-36d1-4224-8a38-f2ad68225fc7",
   "metadata": {
    "tags": []
   },
   "outputs": [
    {
     "data": {
      "text/plain": [
       "{'a': 10, 'b': 20, 'c': 30}"
      ]
     },
     "execution_count": 10,
     "metadata": {},
     "output_type": "execute_result"
    }
   ],
   "source": [
    "args(a=10,b=20,c=30)"
   ]
  },
  {
   "cell_type": "markdown",
   "id": "56625f36-e08f-4253-a03b-9663de5ad0d7",
   "metadata": {},
   "source": [
    "Q3"
   ]
  },
  {
   "cell_type": "raw",
   "id": "5619cd9e-7223-4a74-b6a0-e7da82c05906",
   "metadata": {},
   "source": [
    "iterator is like an pointer to the single part of an iteratable object"
   ]
  },
  {
   "cell_type": "raw",
   "id": "4e9de3b0-5b42-4df5-99b7-dd6c15c681f8",
   "metadata": {},
   "source": [
    "iterator can be initialsed by method iter()"
   ]
  },
  {
   "cell_type": "code",
   "execution_count": 12,
   "id": "abfe57ed-1ee2-4c08-9f89-9b09475e36ff",
   "metadata": {
    "tags": []
   },
   "outputs": [],
   "source": [
    "l=[2,4,6,8,10,12,14,16,18,20]"
   ]
  },
  {
   "cell_type": "code",
   "execution_count": 13,
   "id": "161eea04-02ca-4eb6-8089-c3ab11231753",
   "metadata": {
    "tags": []
   },
   "outputs": [],
   "source": [
    "itr = iter(l)"
   ]
  },
  {
   "cell_type": "code",
   "execution_count": 14,
   "id": "92e93f6b-a784-4f78-8d3f-5157c0d5b10a",
   "metadata": {
    "tags": []
   },
   "outputs": [
    {
     "data": {
      "text/plain": [
       "<list_iterator at 0x24da4d59c90>"
      ]
     },
     "execution_count": 14,
     "metadata": {},
     "output_type": "execute_result"
    }
   ],
   "source": [
    "itr"
   ]
  },
  {
   "cell_type": "code",
   "execution_count": 15,
   "id": "2be12239-8006-4f6b-a1f3-a22606d079d9",
   "metadata": {
    "tags": []
   },
   "outputs": [
    {
     "name": "stdout",
     "output_type": "stream",
     "text": [
      "2\n",
      "4\n",
      "6\n",
      "8\n",
      "10\n"
     ]
    }
   ],
   "source": [
    "for i in range(5):\n",
    "    print(next(itr))"
   ]
  },
  {
   "cell_type": "markdown",
   "id": "27ebbd5e-b11f-46f0-b312-114ee7ab80d1",
   "metadata": {},
   "source": [
    "Q4"
   ]
  },
  {
   "cell_type": "raw",
   "id": "de7b46d8-585f-47ce-952b-9cdf50beff3d",
   "metadata": {},
   "source": [
    "A generator function is function defined like normal function but is used to generate value unlike yeild keyword"
   ]
  },
  {
   "cell_type": "raw",
   "id": "0252ce6d-fb3f-45a5-ad1b-da10b0f99d37",
   "metadata": {},
   "source": [
    "yeild key word is used to extract the value from the function without terminating it "
   ]
  },
  {
   "cell_type": "code",
   "execution_count": 17,
   "id": "6cd50743-5192-4dbc-ad17-2a825ec9c1a6",
   "metadata": {
    "tags": []
   },
   "outputs": [],
   "source": [
    "def genaeratorFunction(n):\n",
    "    i=0\n",
    "    while i <n :\n",
    "        yield i\n",
    "        i+=1"
   ]
  },
  {
   "cell_type": "code",
   "execution_count": 19,
   "id": "87e9f3cb-23a7-4911-b3fa-c7b6782c09d5",
   "metadata": {
    "tags": []
   },
   "outputs": [
    {
     "data": {
      "text/plain": [
       "[0, 1, 2, 3, 4]"
      ]
     },
     "execution_count": 19,
     "metadata": {},
     "output_type": "execute_result"
    }
   ],
   "source": [
    "list(genaeratorFunction(5))"
   ]
  },
  {
   "cell_type": "code",
   "execution_count": 46,
   "id": "7aab29c0-119c-4e39-824a-103624aab913",
   "metadata": {
    "tags": []
   },
   "outputs": [],
   "source": [
    "def isPrime(i):\n",
    "    if i > 1:\n",
    "        for j in range(2,int(i/2)+1):\n",
    "            if(i%j==0):\n",
    "                return False\n",
    "        return True\n",
    "    else:\n",
    "        return False"
   ]
  },
  {
   "cell_type": "code",
   "execution_count": 47,
   "id": "1bb8501d-5cfe-410d-80b5-6eb94a9bce37",
   "metadata": {
    "tags": []
   },
   "outputs": [],
   "source": [
    "def primeutl():\n",
    "    i = 0\n",
    "    while i<1000:\n",
    "        if isPrime(i):\n",
    "            yield i\n",
    "        i+=1\n"
   ]
  },
  {
   "cell_type": "code",
   "execution_count": 48,
   "id": "7600d0f6-c059-43af-bb6e-ef6e116b7ec5",
   "metadata": {
    "tags": []
   },
   "outputs": [],
   "source": [
    "itr = primeutl()"
   ]
  },
  {
   "cell_type": "code",
   "execution_count": 49,
   "id": "da6bfc52-84e4-4607-ae0a-62d115d6ca00",
   "metadata": {
    "tags": []
   },
   "outputs": [
    {
     "name": "stdout",
     "output_type": "stream",
     "text": [
      "2\n",
      "3\n",
      "5\n",
      "7\n",
      "11\n",
      "13\n",
      "17\n",
      "19\n",
      "23\n",
      "29\n",
      "31\n",
      "37\n",
      "41\n",
      "43\n",
      "47\n",
      "53\n",
      "59\n",
      "61\n",
      "67\n",
      "71\n"
     ]
    }
   ],
   "source": [
    "for i in range(20):\n",
    "    print(next(itr))"
   ]
  },
  {
   "cell_type": "markdown",
   "id": "307d5396-7e5d-432c-9e14-dc905cc7e718",
   "metadata": {
    "tags": []
   },
   "source": [
    "Q6"
   ]
  },
  {
   "cell_type": "code",
   "execution_count": 51,
   "id": "76e75746-b350-44f7-a283-2e73185f3f74",
   "metadata": {
    "tags": []
   },
   "outputs": [],
   "source": [
    "def fibonacci():\n",
    "    a,b=0,1\n",
    "    while True:\n",
    "        yield a\n",
    "        a,b=b,a+b\n",
    "    "
   ]
  },
  {
   "cell_type": "code",
   "execution_count": 56,
   "id": "dca2bb54-d023-4dd1-99d0-02a637e39aee",
   "metadata": {
    "tags": []
   },
   "outputs": [],
   "source": [
    "i = fibonacci()"
   ]
  },
  {
   "cell_type": "code",
   "execution_count": 57,
   "id": "37d3b7e8-988d-4b23-8af0-08af8a5bd965",
   "metadata": {
    "tags": []
   },
   "outputs": [
    {
     "name": "stdout",
     "output_type": "stream",
     "text": [
      "0\n",
      "1\n",
      "1\n",
      "2\n",
      "3\n",
      "5\n",
      "8\n",
      "13\n",
      "21\n",
      "34\n"
     ]
    }
   ],
   "source": [
    "for k in range (10):\n",
    "    print(next(i))"
   ]
  },
  {
   "cell_type": "markdown",
   "id": "74b10ecc-a10a-4c41-ad7b-37f7cce818e2",
   "metadata": {},
   "source": [
    "Q7"
   ]
  },
  {
   "cell_type": "code",
   "execution_count": 58,
   "id": "a4228525-7132-463a-8cb9-46f3ae48ce49",
   "metadata": {
    "tags": []
   },
   "outputs": [],
   "source": [
    "s='pwskills'"
   ]
  },
  {
   "cell_type": "code",
   "execution_count": 60,
   "id": "e5bdc317-f1a0-4552-9df3-2713951e6ef2",
   "metadata": {
    "tags": []
   },
   "outputs": [],
   "source": [
    "l = [i for i in s]"
   ]
  },
  {
   "cell_type": "code",
   "execution_count": 61,
   "id": "f0f147ca-083d-4ae4-a76c-23250c7faf8f",
   "metadata": {
    "tags": []
   },
   "outputs": [
    {
     "data": {
      "text/plain": [
       "['p', 'w', 's', 'k', 'i', 'l', 'l', 's']"
      ]
     },
     "execution_count": 61,
     "metadata": {},
     "output_type": "execute_result"
    }
   ],
   "source": [
    "l"
   ]
  },
  {
   "cell_type": "markdown",
   "id": "795a892b-ef9a-48b1-b50b-a96c39ddf036",
   "metadata": {},
   "source": [
    "Q8"
   ]
  },
  {
   "cell_type": "code",
   "execution_count": 66,
   "id": "e94dbe2a-f423-4019-8c2d-96447a318c11",
   "metadata": {
    "tags": []
   },
   "outputs": [],
   "source": [
    "def palindrome(s):\n",
    "    i,j=0,len(s)-1\n",
    "    while i<j:\n",
    "        if s[i] != s[j]:\n",
    "            return False\n",
    "        i+=1\n",
    "        j-=1\n",
    "    return True"
   ]
  },
  {
   "cell_type": "code",
   "execution_count": 67,
   "id": "f66cb4bc-aba8-4d2a-8a58-f08e0d545996",
   "metadata": {
    "tags": []
   },
   "outputs": [
    {
     "data": {
      "text/plain": [
       "False"
      ]
     },
     "execution_count": 67,
     "metadata": {},
     "output_type": "execute_result"
    }
   ],
   "source": [
    "palindrome(s)"
   ]
  },
  {
   "cell_type": "code",
   "execution_count": 68,
   "id": "95238818-e939-45db-aaa7-3fee2590abc6",
   "metadata": {
    "tags": []
   },
   "outputs": [
    {
     "data": {
      "text/plain": [
       "True"
      ]
     },
     "execution_count": 68,
     "metadata": {},
     "output_type": "execute_result"
    }
   ],
   "source": [
    "palindrome(\"hih\")"
   ]
  },
  {
   "cell_type": "markdown",
   "id": "8ab7995f-68d6-4c4a-9a18-5862d26a2592",
   "metadata": {},
   "source": [
    "Q9"
   ]
  },
  {
   "cell_type": "code",
   "execution_count": 69,
   "id": "c02a5b64-aa27-40bd-85b6-5738359346b6",
   "metadata": {
    "tags": []
   },
   "outputs": [],
   "source": [
    "l1 = [i for i in range(100)]"
   ]
  },
  {
   "cell_type": "code",
   "execution_count": 71,
   "id": "60ab2bad-3cf1-42dd-a020-b03407771817",
   "metadata": {
    "tags": []
   },
   "outputs": [],
   "source": [
    "l2 = [i for i in range(100) if i%2 != 0]"
   ]
  },
  {
   "cell_type": "code",
   "execution_count": 72,
   "id": "f85aca2b-3432-4905-955d-95b412085c05",
   "metadata": {
    "tags": []
   },
   "outputs": [
    {
     "data": {
      "text/plain": [
       "[1,\n",
       " 3,\n",
       " 5,\n",
       " 7,\n",
       " 9,\n",
       " 11,\n",
       " 13,\n",
       " 15,\n",
       " 17,\n",
       " 19,\n",
       " 21,\n",
       " 23,\n",
       " 25,\n",
       " 27,\n",
       " 29,\n",
       " 31,\n",
       " 33,\n",
       " 35,\n",
       " 37,\n",
       " 39,\n",
       " 41,\n",
       " 43,\n",
       " 45,\n",
       " 47,\n",
       " 49,\n",
       " 51,\n",
       " 53,\n",
       " 55,\n",
       " 57,\n",
       " 59,\n",
       " 61,\n",
       " 63,\n",
       " 65,\n",
       " 67,\n",
       " 69,\n",
       " 71,\n",
       " 73,\n",
       " 75,\n",
       " 77,\n",
       " 79,\n",
       " 81,\n",
       " 83,\n",
       " 85,\n",
       " 87,\n",
       " 89,\n",
       " 91,\n",
       " 93,\n",
       " 95,\n",
       " 97,\n",
       " 99]"
      ]
     },
     "execution_count": 72,
     "metadata": {},
     "output_type": "execute_result"
    }
   ],
   "source": [
    "l2"
   ]
  },
  {
   "cell_type": "code",
   "execution_count": null,
   "id": "4d69e1d9-fd96-4b5c-9f74-3591105d1bd0",
   "metadata": {},
   "outputs": [],
   "source": []
  }
 ],
 "metadata": {
  "kernelspec": {
   "display_name": "Python 3 (ipykernel)",
   "language": "python",
   "name": "python3"
  },
  "language_info": {
   "codemirror_mode": {
    "name": "ipython",
    "version": 3
   },
   "file_extension": ".py",
   "mimetype": "text/x-python",
   "name": "python",
   "nbconvert_exporter": "python",
   "pygments_lexer": "ipython3",
   "version": "3.11.1"
  }
 },
 "nbformat": 4,
 "nbformat_minor": 5
}
