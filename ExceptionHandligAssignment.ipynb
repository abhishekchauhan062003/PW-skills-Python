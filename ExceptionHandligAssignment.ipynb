{
 "cells": [
  {
   "cell_type": "markdown",
   "id": "ef3eaf77-0d53-4bba-af7d-bf99550bafc2",
   "metadata": {},
   "source": [
    "Q1"
   ]
  },
  {
   "cell_type": "raw",
   "id": "382befe3-3113-4c5f-a1aa-472ad3d5668e",
   "metadata": {},
   "source": [
    "Exeption are unwanted event which occurs while executing the program and disrupts normal flow of the program's instruction "
   ]
  },
  {
   "cell_type": "raw",
   "id": "9f3c8dbe-4168-4f99-b4e7-09773917f259",
   "metadata": {},
   "source": [
    "1. an exception which can not be handled by programmer is called error \n",
    "   where,\n",
    "   Excetpion is an error which can be handled by programmer\n",
    "2. All exceptions occur in runtime\n",
    "   where,\n",
    "   error may occur in compile time and runtime"
   ]
  },
  {
   "cell_type": "markdown",
   "id": "953151b9-63f9-4fea-8156-3ed3537e0e32",
   "metadata": {
    "tags": []
   },
   "source": [
    "Q2"
   ]
  },
  {
   "cell_type": "raw",
   "id": "7e3b87f0-5fb3-4b77-b3ec-4fa5002daad6",
   "metadata": {},
   "source": [
    "an not handled exception can disrupt the normal flow of program or can terminate the program when  encountered"
   ]
  },
  {
   "cell_type": "raw",
   "id": "10116be5-f0d5-4386-bf39-05f555571a17",
   "metadata": {},
   "source": [
    "for example,consider the following code"
   ]
  },
  {
   "cell_type": "code",
   "execution_count": 5,
   "id": "90c30f8b-b025-43e5-a0ec-25b994d842fb",
   "metadata": {
    "tags": []
   },
   "outputs": [
    {
     "name": "stdin",
     "output_type": "stream",
     "text": [
      "enter a 45\n",
      "Enter b 0\n"
     ]
    },
    {
     "ename": "ZeroDivisionError",
     "evalue": "division by zero",
     "output_type": "error",
     "traceback": [
      "\u001b[1;31m---------------------------------------------------------------------------\u001b[0m",
      "\u001b[1;31mZeroDivisionError\u001b[0m                         Traceback (most recent call last)",
      "Cell \u001b[1;32mIn[5], line 5\u001b[0m\n\u001b[0;32m      3\u001b[0m a\u001b[38;5;241m=\u001b[39m\u001b[38;5;28mint\u001b[39m(\u001b[38;5;28minput\u001b[39m(\u001b[38;5;124m\"\u001b[39m\u001b[38;5;124menter a\u001b[39m\u001b[38;5;124m\"\u001b[39m))\n\u001b[0;32m      4\u001b[0m b\u001b[38;5;241m=\u001b[39m\u001b[38;5;28mint\u001b[39m(\u001b[38;5;28minput\u001b[39m(\u001b[38;5;124m\"\u001b[39m\u001b[38;5;124mEnter b\u001b[39m\u001b[38;5;124m\"\u001b[39m))\n\u001b[1;32m----> 5\u001b[0m \u001b[43mdivide\u001b[49m\u001b[43m(\u001b[49m\u001b[43ma\u001b[49m\u001b[43m,\u001b[49m\u001b[43mb\u001b[49m\u001b[43m)\u001b[49m\n\u001b[0;32m      6\u001b[0m \u001b[38;5;28mprint\u001b[39m(\u001b[38;5;124m\"\u001b[39m\u001b[38;5;124mNew code here:\u001b[39m\u001b[38;5;124m\"\u001b[39m)\n",
      "Cell \u001b[1;32mIn[5], line 2\u001b[0m, in \u001b[0;36mdivide\u001b[1;34m(a, b)\u001b[0m\n\u001b[0;32m      1\u001b[0m \u001b[38;5;28;01mdef\u001b[39;00m \u001b[38;5;21mdivide\u001b[39m(a,b):\n\u001b[1;32m----> 2\u001b[0m     \u001b[38;5;28;01mreturn\u001b[39;00m \u001b[43ma\u001b[49m\u001b[38;5;241;43m/\u001b[39;49m\u001b[43mb\u001b[49m\n",
      "\u001b[1;31mZeroDivisionError\u001b[0m: division by zero"
     ]
    }
   ],
   "source": [
    "def divide(a,b):\n",
    "    return a/b\n",
    "a=int(input(\"enter a\"))\n",
    "b=int(input(\"Enter b\"))\n",
    "divide(a,b)\n",
    "print(\"New code here:\")"
   ]
  },
  {
   "cell_type": "raw",
   "id": "41fe8c12-c01a-4415-989b-9d592ed1ce8d",
   "metadata": {},
   "source": [
    "the line after divide method was not executed due to excetion encounterd"
   ]
  },
  {
   "cell_type": "raw",
   "id": "9cca968f-07a8-4c20-868f-c62b68577376",
   "metadata": {},
   "source": [
    "now if we handle the exception,"
   ]
  },
  {
   "cell_type": "code",
   "execution_count": 8,
   "id": "aabb5550-b762-452c-a550-4d024a2da7ac",
   "metadata": {
    "tags": []
   },
   "outputs": [
    {
     "name": "stdin",
     "output_type": "stream",
     "text": [
      "enter a 8\n",
      "Enter b 0\n"
     ]
    },
    {
     "name": "stdout",
     "output_type": "stream",
     "text": [
      "division by zero\n",
      "New code here:\n"
     ]
    }
   ],
   "source": [
    "def divide(a,b):\n",
    "    return a/b\n",
    "a=int(input(\"enter a\"))\n",
    "b=int(input(\"Enter b\"))\n",
    "try:\n",
    "    divide(a,b)\n",
    "except ZeroDivisionError as e:\n",
    "    print(e)\n",
    "print(\"New code here:\")"
   ]
  },
  {
   "cell_type": "raw",
   "id": "d6d2e4f2-4640-4019-9cc7-bcf5dbebc739",
   "metadata": {
    "tags": []
   },
   "source": [
    "here after handling the exception the flow of program was not broken as next line was exectued successfully"
   ]
  },
  {
   "cell_type": "code",
   "execution_count": null,
   "id": "3ccda369-db5e-4d6c-8f24-2067e8c46aed",
   "metadata": {},
   "outputs": [],
   "source": []
  }
 ],
 "metadata": {
  "kernelspec": {
   "display_name": "Python 3 (ipykernel)",
   "language": "python",
   "name": "python3"
  },
  "language_info": {
   "codemirror_mode": {
    "name": "ipython",
    "version": 3
   },
   "file_extension": ".py",
   "mimetype": "text/x-python",
   "name": "python",
   "nbconvert_exporter": "python",
   "pygments_lexer": "ipython3",
   "version": "3.11.1"
  }
 },
 "nbformat": 4,
 "nbformat_minor": 5
}
