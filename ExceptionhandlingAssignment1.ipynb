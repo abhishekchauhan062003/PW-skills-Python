{
 "cells": [
  {
   "cell_type": "markdown",
   "id": "77d89914-1f21-4bb4-865c-d3aa792437ee",
   "metadata": {},
   "source": [
    "Q1"
   ]
  },
  {
   "cell_type": "raw",
   "id": "56876788-19f0-433d-a4ed-6deb08c7be69",
   "metadata": {},
   "source": [
    "Exception of a program is the error that occurs during the execution of the program"
   ]
  },
  {
   "cell_type": "raw",
   "id": "66840c7b-bfa8-472d-8cab-45ec6448b8f8",
   "metadata": {
    "tags": []
   },
   "source": [
    "Exception :-\n",
    "    it is the unwanted error occurs while executing program\n",
    "Syntax Error :-\n",
    "    mistakes in the source code such as puchuhation error ,inccorrect labels OR we can say that an error in the   \n",
    "    syntax of a sequence of characters or tokens that is intended to be written in particular language"
   ]
  },
  {
   "cell_type": "raw",
   "id": "8cfa6506-1a46-4207-98dc-d341a4f5e351",
   "metadata": {},
   "source": [
    "exception:-"
   ]
  },
  {
   "cell_type": "code",
   "execution_count": 4,
   "id": "04fa3f51-209a-4bcd-ab12-c20c85f9795b",
   "metadata": {
    "tags": []
   },
   "outputs": [
    {
     "name": "stdin",
     "output_type": "stream",
     "text": [
      "Enter a :  0\n"
     ]
    },
    {
     "ename": "ZeroDivisionError",
     "evalue": "division by zero",
     "output_type": "error",
     "traceback": [
      "\u001b[1;31m---------------------------------------------------------------------------\u001b[0m",
      "\u001b[1;31mZeroDivisionError\u001b[0m                         Traceback (most recent call last)",
      "Cell \u001b[1;32mIn[4], line 3\u001b[0m\n\u001b[0;32m      1\u001b[0m a\u001b[38;5;241m=\u001b[39m\u001b[38;5;28mint\u001b[39m(\u001b[38;5;28minput\u001b[39m(\u001b[38;5;124m\"\u001b[39m\u001b[38;5;124mEnter a : \u001b[39m\u001b[38;5;124m\"\u001b[39m))\n\u001b[0;32m      2\u001b[0m b\u001b[38;5;241m=\u001b[39m\u001b[38;5;241m5\u001b[39m\n\u001b[1;32m----> 3\u001b[0m c\u001b[38;5;241m=\u001b[39m\u001b[43mb\u001b[49m\u001b[38;5;241;43m/\u001b[39;49m\u001b[43ma\u001b[49m\n",
      "\u001b[1;31mZeroDivisionError\u001b[0m: division by zero"
     ]
    }
   ],
   "source": [
    "a=int(input(\"Enter a : \"))\n",
    "b=5\n",
    "c=b/a"
   ]
  },
  {
   "cell_type": "markdown",
   "id": "4988bbfe-d064-40f4-b92d-24ef900552af",
   "metadata": {},
   "source": [
    "Syntax ERRor:-"
   ]
  },
  {
   "cell_type": "code",
   "execution_count": 5,
   "id": "f8efea7f-438a-4836-b074-98e30c974502",
   "metadata": {
    "tags": []
   },
   "outputs": [
    {
     "ename": "NameError",
     "evalue": "name 'integer' is not defined",
     "output_type": "error",
     "traceback": [
      "\u001b[1;31m---------------------------------------------------------------------------\u001b[0m",
      "\u001b[1;31mNameError\u001b[0m                                 Traceback (most recent call last)",
      "Cell \u001b[1;32mIn[5], line 1\u001b[0m\n\u001b[1;32m----> 1\u001b[0m a\u001b[38;5;241m=\u001b[39m\u001b[43minteger\u001b[49m(\u001b[38;5;28minput\u001b[39m(\u001b[38;5;124m\"\u001b[39m\u001b[38;5;124mEnter a\u001b[39m\u001b[38;5;124m\"\u001b[39m))\n",
      "\u001b[1;31mNameError\u001b[0m: name 'integer' is not defined"
     ]
    }
   ],
   "source": [
    "a=integer(input(\"Enter a\"))"
   ]
  },
  {
   "cell_type": "markdown",
   "id": "1fcedeb9-1896-458d-aad7-fab1a0f6186d",
   "metadata": {},
   "source": [
    "Q3"
   ]
  },
  {
   "cell_type": "raw",
   "id": "353ad0e6-0901-48ec-8dfd-ae2d5db16037",
   "metadata": {
    "tags": []
   },
   "source": [
    "try and except block is used to catch and handle the exceptions \n"
   ]
  },
  {
   "cell_type": "raw",
   "id": "12cef988-170a-41e4-b043-8750f4abfd5d",
   "metadata": {},
   "source": [
    "try block is used to catch the exception.\n",
    "The code where exception can occur or most likely to occur is placed inside the try block  "
   ]
  },
  {
   "cell_type": "raw",
   "id": "deae3b6b-efbe-4b08-b123-e1041f3ac22f",
   "metadata": {},
   "source": [
    "except block is used to handle the exception\n",
    "when try block catchs the exception then the execption is sent to the except bolck wirtten after ending the try block in order to handle the ocuured exception"
   ]
  },
  {
   "cell_type": "raw",
   "id": "27559459-052d-4bae-afe2-b673e4c2f147",
   "metadata": {
    "tags": []
   },
   "source": [
    "eg:"
   ]
  },
  {
   "cell_type": "code",
   "execution_count": 7,
   "id": "eb2b3856-576e-4c55-ba03-4c4cc0050538",
   "metadata": {
    "tags": []
   },
   "outputs": [
    {
     "name": "stdout",
     "output_type": "stream",
     "text": [
      "unhashable type: 'list'\n",
      "after the exception\n"
     ]
    }
   ],
   "source": [
    "try:\n",
    "    s =set()\n",
    "    s.add([1,2,3,4])\n",
    "except TypeError as e:\n",
    "    print(e)\n",
    "print(\"after the exception\")"
   ]
  },
  {
   "cell_type": "markdown",
   "id": "0d1d8b61-8099-4377-830b-d1d2f2158cd4",
   "metadata": {},
   "source": [
    "Q4"
   ]
  },
  {
   "cell_type": "raw",
   "id": "38d1bf59-d42e-4763-9b98-45c49d245b20",
   "metadata": {},
   "source": [
    "(i) try and else:"
   ]
  },
  {
   "cell_type": "code",
   "execution_count": 8,
   "id": "9366e548-f5fc-4a7a-8a97-cfb29773fbb7",
   "metadata": {
    "tags": []
   },
   "outputs": [
    {
     "name": "stdout",
     "output_type": "stream",
     "text": [
      "division by zero\n"
     ]
    }
   ],
   "source": [
    "try:\n",
    "    a=4/0\n",
    "except ZeroDivisionError as e:\n",
    "    print(e)\n",
    "else:\n",
    "    print(\"No Error\")"
   ]
  },
  {
   "cell_type": "code",
   "execution_count": 9,
   "id": "d6cc9cfb-facf-4f8c-bb38-5eae2d326545",
   "metadata": {
    "tags": []
   },
   "outputs": [
    {
     "name": "stdout",
     "output_type": "stream",
     "text": [
      "No Error\n"
     ]
    }
   ],
   "source": [
    "try:\n",
    "    a=4/10\n",
    "except ZeroDivisionError as e:\n",
    "    print(e)\n",
    "else:\n",
    "    print(\"No Error\")"
   ]
  },
  {
   "cell_type": "raw",
   "id": "313155be-fe7c-4c84-aa02-be90e8fc7c39",
   "metadata": {},
   "source": [
    "in first code we can see that when error occurs the error is handled by the except but block but observe that else block is not executed"
   ]
  },
  {
   "cell_type": "raw",
   "id": "c9c0cd1d-a4e0-46a2-8b6f-f24105d312ea",
   "metadata": {},
   "source": [
    "where \n",
    "in second code we can observe that when the error is not ecountered or we can say when except block is not executed than else block got executed "
   ]
  },
  {
   "cell_type": "raw",
   "id": "9f8305e9-a481-410d-a783-50cf2203d727",
   "metadata": {},
   "source": [
    "(ii) finally"
   ]
  },
  {
   "cell_type": "code",
   "execution_count": 12,
   "id": "d07d1330-5cfd-44f0-9b2b-993d1b039b9c",
   "metadata": {
    "tags": []
   },
   "outputs": [
    {
     "name": "stdout",
     "output_type": "stream",
     "text": [
      "division by zero\n",
      "This is finally block\n"
     ]
    }
   ],
   "source": [
    "try:\n",
    "    a=4/0\n",
    "    print(\"This is second line\")\n",
    "except ZeroDivisionError as e:\n",
    "    print(e)\n",
    "finally:\n",
    "    print(\"This is finally block\")"
   ]
  },
  {
   "cell_type": "code",
   "execution_count": 13,
   "id": "bf0a9103-8288-4335-9b53-54e24ad67e2a",
   "metadata": {
    "tags": []
   },
   "outputs": [
    {
     "name": "stdout",
     "output_type": "stream",
     "text": [
      "This is second line\n",
      "This is finally block\n"
     ]
    }
   ],
   "source": [
    "try:\n",
    "    a=4/10\n",
    "    print(\"This is second line\")\n",
    "except ZeroDivisionError as e:\n",
    "    print(e)\n",
    "finally:\n",
    "    print(\"This is finally block\")"
   ]
  },
  {
   "cell_type": "raw",
   "id": "c9df53c0-82bf-4bf8-b78d-08d2bf4d37b2",
   "metadata": {},
   "source": [
    "finally block is used to exectue the code that needs to  be excecuted no matter try block raises any exception or not "
   ]
  },
  {
   "cell_type": "raw",
   "id": "09bdfe29-dd57-4cc8-a213-057361f63661",
   "metadata": {},
   "source": [
    "(iii) raise "
   ]
  },
  {
   "cell_type": "raw",
   "id": "030f3606-59be-4789-abc0-1da9141aa691",
   "metadata": {},
   "source": [
    "raise keyword raises a specific exception when condition is met or the code encounters the error"
   ]
  },
  {
   "cell_type": "code",
   "execution_count": 37,
   "id": "59f374ee-9f04-407e-bdd6-d29a09be45fb",
   "metadata": {
    "tags": []
   },
   "outputs": [],
   "source": [
    "class speed(Exception):\n",
    "    def __init__(self,msg):\n",
    "        self.msg = msg\n",
    "        "
   ]
  },
  {
   "cell_type": "code",
   "execution_count": 38,
   "id": "6ec424b8-071b-48ac-998a-6612d27889e5",
   "metadata": {
    "tags": []
   },
   "outputs": [],
   "source": [
    "def CheckSpeed(b):\n",
    "    if b > 100:\n",
    "        raise speed(\"Overspeed!\")\n",
    "    else:\n",
    "        return \"Nice speed plz continue with this speed\""
   ]
  },
  {
   "cell_type": "code",
   "execution_count": 40,
   "id": "2715b0ce-9e0b-4a43-a0a2-28842e193829",
   "metadata": {
    "tags": []
   },
   "outputs": [
    {
     "name": "stdout",
     "output_type": "stream",
     "text": [
      "Overspeed!\n"
     ]
    }
   ],
   "source": [
    "try:\n",
    "    b=200\n",
    "    CheckSpeed(b)\n",
    "except speed as e:\n",
    "    print(e)"
   ]
  },
  {
   "cell_type": "code",
   "execution_count": 41,
   "id": "b1159b96-8f15-4b9b-b0a6-b0778dd5ede9",
   "metadata": {
    "tags": []
   },
   "outputs": [
    {
     "name": "stdout",
     "output_type": "stream",
     "text": [
      "Zero divion Error! :) \n"
     ]
    }
   ],
   "source": [
    "try:\n",
    "    b=0\n",
    "    if b==0:\n",
    "        raise ZeroDivisionError(\"Zero divion Error! :) \")\n",
    "except ZeroDivisionError as e:\n",
    "    print(e)"
   ]
  },
  {
   "cell_type": "markdown",
   "id": "2f904917-ee3a-4e26-97ef-1363a7492eb3",
   "metadata": {},
   "source": [
    "Q5"
   ]
  },
  {
   "cell_type": "raw",
   "id": "cc9425d9-345e-47d5-92b2-68b018ec4031",
   "metadata": {},
   "source": [
    "custom Exception are exception that a programmer want to raise while writing his/program they are used to improve uaer experience"
   ]
  },
  {
   "cell_type": "raw",
   "id": "0b7d2a02-1b4e-4023-802c-5f9adb225379",
   "metadata": {},
   "source": [
    "can make your code much more readable and robust, and reduce the amount of code you write later to try and figure out what exactly went wrong"
   ]
  },
  {
   "cell_type": "markdown",
   "id": "ac8d89d0-e18d-4206-b3ce-b59572be168f",
   "metadata": {},
   "source": [
    "Q6"
   ]
  },
  {
   "cell_type": "code",
   "execution_count": 42,
   "id": "8057e29c-f6e5-477b-a177-353aa8fc0cbd",
   "metadata": {
    "tags": []
   },
   "outputs": [],
   "source": [
    "class speed(Exception):\n",
    "    def __init__(self,msg):\n",
    "        self.msg = msg\n",
    "       "
   ]
  },
  {
   "cell_type": "code",
   "execution_count": 43,
   "id": "5205ca74-18fe-4ca2-8183-31a60144ef65",
   "metadata": {
    "tags": []
   },
   "outputs": [],
   "source": [
    "def CheckSpeed(b):\n",
    "    if b > 100:\n",
    "        raise speed(\"Overspeed!\")\n",
    "    else:\n",
    "        return \"Nice speed plz continue with this speed\""
   ]
  },
  {
   "cell_type": "code",
   "execution_count": 44,
   "id": "221b3157-72f3-432d-937a-3a5807ee4652",
   "metadata": {
    "tags": []
   },
   "outputs": [
    {
     "name": "stdout",
     "output_type": "stream",
     "text": [
      "Overspeed!\n"
     ]
    }
   ],
   "source": [
    "try:\n",
    "    b=200\n",
    "    CheckSpeed(b)\n",
    "except speed as e:\n",
    "    print(e)"
   ]
  },
  {
   "cell_type": "code",
   "execution_count": null,
   "id": "ac66de0d-5e92-448d-a1af-a925ff172549",
   "metadata": {},
   "outputs": [],
   "source": []
  }
 ],
 "metadata": {
  "kernelspec": {
   "display_name": "Python 3 (ipykernel)",
   "language": "python",
   "name": "python3"
  },
  "language_info": {
   "codemirror_mode": {
    "name": "ipython",
    "version": 3
   },
   "file_extension": ".py",
   "mimetype": "text/x-python",
   "name": "python",
   "nbconvert_exporter": "python",
   "pygments_lexer": "ipython3",
   "version": "3.11.1"
  }
 },
 "nbformat": 4,
 "nbformat_minor": 5
}
