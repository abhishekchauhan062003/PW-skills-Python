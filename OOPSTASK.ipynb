{
 "cells": [
  {
   "cell_type": "markdown",
   "id": "b3d847cc-f0cd-4bbf-8a56-755456d78a5e",
   "metadata": {},
   "source": [
    "Q1"
   ]
  },
  {
   "cell_type": "code",
   "execution_count": 2,
   "id": "293a3c5f-6474-40bf-8193-590d5da476ac",
   "metadata": {
    "tags": []
   },
   "outputs": [],
   "source": [
    "class vehicle:\n",
    "  def __init__(self,name_of_vehicle,max_speed,average_of_vehicle):\n",
    "    self.name_of_vehicle = name_of_vehicle\n",
    "    self.max_speed = max_speed\n",
    "    self.average_of_vehicle = average_of_vehicle"
   ]
  },
  {
   "cell_type": "markdown",
   "id": "6cf23f5a-1086-475b-a8c2-b5e08aac625e",
   "metadata": {},
   "source": [
    "Q2"
   ]
  },
  {
   "cell_type": "code",
   "execution_count": 3,
   "id": "3b78ff1c-157d-40df-b45e-38443c93a4ac",
   "metadata": {
    "tags": []
   },
   "outputs": [],
   "source": [
    "class car(vehicle):\n",
    "  def seating_capacity(self,capacity : int):\n",
    "    self.capacity = capacity\n",
    "    return self.capacity,self.name_of_vehicle\n"
   ]
  },
  {
   "cell_type": "code",
   "execution_count": 4,
   "id": "0b021173-c3c9-45c5-9f31-9527b4c944ec",
   "metadata": {
    "tags": []
   },
   "outputs": [
    {
     "data": {
      "text/plain": [
       "(4, 'ABC')"
      ]
     },
     "execution_count": 4,
     "metadata": {},
     "output_type": "execute_result"
    }
   ],
   "source": [
    "c = car(\"ABC\",220,45)\n",
    "c.seating_capacity(4)"
   ]
  },
  {
   "cell_type": "markdown",
   "id": "83661577-088a-49f5-b1c1-256704dee3ed",
   "metadata": {
    "tags": []
   },
   "source": [
    "Q3"
   ]
  },
  {
   "cell_type": "code",
   "execution_count": 6,
   "id": "dd50c9fb-8203-4853-9d28-26036ecea9d0",
   "metadata": {
    "tags": []
   },
   "outputs": [],
   "source": [
    "# when a child class inherits method and variables from two parent classes then this method of inheritence is known as multiple inheritence\n",
    "class A:\n",
    "  def say(self):\n",
    "    return \"hello this is A\"\n",
    "class B:\n",
    "  def hi(self):\n",
    "    return \"hello this is B\"\n",
    "class C(A,B):\n",
    "\n",
    "  pass"
   ]
  },
  {
   "cell_type": "code",
   "execution_count": 7,
   "id": "5d4e73c0-7a57-43ea-8fbc-df7dfa92e56d",
   "metadata": {
    "tags": []
   },
   "outputs": [],
   "source": [
    "c = C()"
   ]
  },
  {
   "cell_type": "code",
   "execution_count": 8,
   "id": "a4e6aecc-487d-4725-8ccd-8d250712da1e",
   "metadata": {
    "tags": []
   },
   "outputs": [
    {
     "data": {
      "text/plain": [
       "'hello this is A'"
      ]
     },
     "execution_count": 8,
     "metadata": {},
     "output_type": "execute_result"
    }
   ],
   "source": [
    "c.say()"
   ]
  },
  {
   "cell_type": "code",
   "execution_count": 9,
   "id": "372dae00-0d0c-4937-a47e-d1b72374de17",
   "metadata": {
    "tags": []
   },
   "outputs": [
    {
     "data": {
      "text/plain": [
       "'hello this is B'"
      ]
     },
     "execution_count": 9,
     "metadata": {},
     "output_type": "execute_result"
    }
   ],
   "source": [
    "c.hi()"
   ]
  },
  {
   "cell_type": "markdown",
   "id": "c297ee94-79a2-4460-94be-12a61cb4b4c5",
   "metadata": {
    "tags": []
   },
   "source": [
    "Q4"
   ]
  },
  {
   "cell_type": "code",
   "execution_count": 11,
   "id": "7858cf53-4dc6-48a0-9dc9-b8e4990e5435",
   "metadata": {
    "tags": []
   },
   "outputs": [],
   "source": [
    "# setter is used in an class which takes data as argument and is used to initialise class private data\n",
    "# getter is also used in an class which returns the private data of class whitout giving access to modify the data i.e user can only read the data   \n",
    "class Example:\n",
    "  def set_data(self,a,b): #setter\n",
    "    self.__a = a\n",
    "    self.__b = b\n",
    "  def get_data(self):  #getter\n",
    "    return self.__a,self.__b"
   ]
  },
  {
   "cell_type": "code",
   "execution_count": 12,
   "id": "9058fdbb-f445-4b41-94bc-e440edf4b24b",
   "metadata": {
    "tags": []
   },
   "outputs": [],
   "source": [
    "A = Example() "
   ]
  },
  {
   "cell_type": "code",
   "execution_count": 13,
   "id": "d8e60f73-3236-4f92-8c27-46cd9b15a853",
   "metadata": {
    "tags": []
   },
   "outputs": [],
   "source": [
    "A.set_data(5,6)"
   ]
  },
  {
   "cell_type": "code",
   "execution_count": 14,
   "id": "ea2025e4-58a7-4e5c-9f4e-bdd83f5d7b0e",
   "metadata": {
    "tags": []
   },
   "outputs": [
    {
     "data": {
      "text/plain": [
       "(5, 6)"
      ]
     },
     "execution_count": 14,
     "metadata": {},
     "output_type": "execute_result"
    }
   ],
   "source": [
    "A.get_data()"
   ]
  },
  {
   "cell_type": "markdown",
   "id": "ec7865ae-26d8-4309-a558-13583a5eb413",
   "metadata": {},
   "source": [
    "Q5"
   ]
  },
  {
   "cell_type": "code",
   "execution_count": 16,
   "id": "0f0a4b01-15eb-44a4-b2b8-962bfe3ef4b8",
   "metadata": {
    "tags": []
   },
   "outputs": [],
   "source": [
    "#function overiding\n",
    "#it is the method of using the method of parent class in the child class according to its behavior\n",
    "class Example2:\n",
    "  def saay(self):\n",
    "    print(\"In example 2\")\n",
    "class derived(Example2):\n",
    "  def saay(self):\n",
    "    print(\"In derived class\")\n",
    " "
   ]
  },
  {
   "cell_type": "code",
   "execution_count": 20,
   "id": "3dd0cc29-8711-4706-afba-e09bcf4b008b",
   "metadata": {
    "tags": []
   },
   "outputs": [],
   "source": [
    "a = Example2()"
   ]
  },
  {
   "cell_type": "code",
   "execution_count": 21,
   "id": "7ef7e496-3c9e-4507-b691-77cca8c28b17",
   "metadata": {
    "tags": []
   },
   "outputs": [],
   "source": [
    "b = derived()"
   ]
  },
  {
   "cell_type": "code",
   "execution_count": 22,
   "id": "093636f7-3216-43a2-8098-6af4d4ce4320",
   "metadata": {
    "tags": []
   },
   "outputs": [
    {
     "name": "stdout",
     "output_type": "stream",
     "text": [
      "In example 2\n",
      "In derived class\n"
     ]
    }
   ],
   "source": [
    "a.saay()\n",
    "b.saay()"
   ]
  },
  {
   "cell_type": "code",
   "execution_count": null,
   "id": "be1d478c-80cf-4dc1-a8e1-721165f5caf1",
   "metadata": {},
   "outputs": [],
   "source": []
  }
 ],
 "metadata": {
  "kernelspec": {
   "display_name": "Python 3 (ipykernel)",
   "language": "python",
   "name": "python3"
  },
  "language_info": {
   "codemirror_mode": {
    "name": "ipython",
    "version": 3
   },
   "file_extension": ".py",
   "mimetype": "text/x-python",
   "name": "python",
   "nbconvert_exporter": "python",
   "pygments_lexer": "ipython3",
   "version": "3.11.1"
  }
 },
 "nbformat": 4,
 "nbformat_minor": 5
}
