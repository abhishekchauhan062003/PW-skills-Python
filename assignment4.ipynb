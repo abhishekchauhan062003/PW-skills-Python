{
 "cells": [
  {
   "cell_type": "markdown",
   "id": "e55338c6-71fd-4e96-a8b0-c58a551bcc65",
   "metadata": {},
   "source": [
    "Q1"
   ]
  },
  {
   "cell_type": "code",
   "execution_count": 4,
   "id": "20ac590d-46f1-414e-826e-66d072a47a4c",
   "metadata": {
    "tags": []
   },
   "outputs": [],
   "source": [
    "\n",
    "l = [('Sachin Tendulkar', 34357), ('Ricky Ponting', 27483), ('Jack Kallis', 25534), ('Virat Kohli', 24936)]"
   ]
  },
  {
   "cell_type": "code",
   "execution_count": 5,
   "id": "c6927fb3-46e3-4b89-8add-a7af36291e61",
   "metadata": {
    "tags": []
   },
   "outputs": [],
   "source": [
    "l.sort(key = lambda x:x[1])"
   ]
  },
  {
   "cell_type": "code",
   "execution_count": 6,
   "id": "259dab6d-f7db-445d-b092-52f569f56e83",
   "metadata": {
    "tags": []
   },
   "outputs": [
    {
     "data": {
      "text/plain": [
       "[('Virat Kohli', 24936),\n",
       " ('Jack Kallis', 25534),\n",
       " ('Ricky Ponting', 27483),\n",
       " ('Sachin Tendulkar', 34357)]"
      ]
     },
     "execution_count": 6,
     "metadata": {},
     "output_type": "execute_result"
    }
   ],
   "source": [
    "l"
   ]
  },
  {
   "cell_type": "markdown",
   "id": "251df891-aab8-411e-b48d-9f83c95544fa",
   "metadata": {},
   "source": [
    "Q2"
   ]
  },
  {
   "cell_type": "code",
   "execution_count": 9,
   "id": "ff4d475d-f92e-4733-b40b-2747e72a9691",
   "metadata": {
    "tags": []
   },
   "outputs": [],
   "source": [
    "l=[x for x in range(1,11)]"
   ]
  },
  {
   "cell_type": "code",
   "execution_count": 12,
   "id": "712f850e-e736-4321-9909-fcb2f34d3038",
   "metadata": {
    "tags": []
   },
   "outputs": [
    {
     "data": {
      "text/plain": [
       "[1, 4, 9, 16, 25, 36, 49, 64, 81, 100]"
      ]
     },
     "execution_count": 12,
     "metadata": {},
     "output_type": "execute_result"
    }
   ],
   "source": [
    "list(map(lambda x:x*x,l))"
   ]
  },
  {
   "cell_type": "markdown",
   "id": "afdfd5fa-9e66-404c-966b-7ec5e6783c72",
   "metadata": {
    "tags": []
   },
   "source": [
    "Q3"
   ]
  },
  {
   "cell_type": "code",
   "execution_count": 15,
   "id": "83db434b-d909-47ad-a294-a5f52fe7b9e3",
   "metadata": {
    "tags": []
   },
   "outputs": [],
   "source": [
    "t = tuple(map(lambda x:str(x),l))"
   ]
  },
  {
   "cell_type": "code",
   "execution_count": 16,
   "id": "20abe807-cbe5-4674-8c7e-23996ffe175b",
   "metadata": {
    "tags": []
   },
   "outputs": [
    {
     "data": {
      "text/plain": [
       "('1', '2', '3', '4', '5', '6', '7', '8', '9', '10')"
      ]
     },
     "execution_count": 16,
     "metadata": {},
     "output_type": "execute_result"
    }
   ],
   "source": [
    "t"
   ]
  },
  {
   "cell_type": "markdown",
   "id": "e54ac211-b1f4-447a-831f-8082a370a8a7",
   "metadata": {},
   "source": [
    "Q4"
   ]
  },
  {
   "cell_type": "code",
   "execution_count": 23,
   "id": "6fdeda1e-0afb-4e2b-bb80-afeb3d0b7ea5",
   "metadata": {
    "tags": []
   },
   "outputs": [],
   "source": [
    "from functools import reduce"
   ]
  },
  {
   "cell_type": "code",
   "execution_count": 24,
   "id": "f0b20565-1e86-4714-93dc-e2898146e34f",
   "metadata": {
    "tags": []
   },
   "outputs": [],
   "source": [
    "l = [x for x in range(1,26)]"
   ]
  },
  {
   "cell_type": "code",
   "execution_count": 25,
   "id": "65f373a6-8cb8-43a2-904a-37c4d3a60139",
   "metadata": {
    "tags": []
   },
   "outputs": [],
   "source": [
    "ans=reduce(lambda a,b:a*b,l)"
   ]
  },
  {
   "cell_type": "code",
   "execution_count": 26,
   "id": "08615b77-6bfd-4c00-b9c4-e389666d4175",
   "metadata": {
    "tags": []
   },
   "outputs": [
    {
     "data": {
      "text/plain": [
       "15511210043330985984000000"
      ]
     },
     "execution_count": 26,
     "metadata": {},
     "output_type": "execute_result"
    }
   ],
   "source": [
    "ans"
   ]
  },
  {
   "cell_type": "markdown",
   "id": "378c2186-de62-40e6-92da-28cc94a4b152",
   "metadata": {
    "tags": []
   },
   "source": [
    "Q5"
   ]
  },
  {
   "cell_type": "code",
   "execution_count": 28,
   "id": "6c314cbe-2f5c-47b1-91eb-0b793c5a45bd",
   "metadata": {
    "tags": []
   },
   "outputs": [],
   "source": [
    "l = [2, 3, 6, 9, 27, 60, 90, 120, 55, 46]"
   ]
  },
  {
   "cell_type": "code",
   "execution_count": 31,
   "id": "3f844df4-8064-4514-94b7-a1f7f6d6ca82",
   "metadata": {
    "tags": []
   },
   "outputs": [
    {
     "data": {
      "text/plain": [
       "[6, 60, 90, 120]"
      ]
     },
     "execution_count": 31,
     "metadata": {},
     "output_type": "execute_result"
    }
   ],
   "source": [
    "list(filter(lambda x: x%2==0 and x%3==0,l))"
   ]
  },
  {
   "cell_type": "markdown",
   "id": "cce92c08-c265-4fd7-ab1f-57a491f4816b",
   "metadata": {},
   "source": [
    "Q6"
   ]
  },
  {
   "cell_type": "code",
   "execution_count": 32,
   "id": "105c6dc7-a3e8-441c-ae21-56bc15afc7ce",
   "metadata": {
    "tags": []
   },
   "outputs": [],
   "source": [
    "s=['python', 'php', 'aba', 'radar', 'level']"
   ]
  },
  {
   "cell_type": "code",
   "execution_count": 38,
   "id": "0a6c3232-6c18-4b2f-a961-5de1ad63c03c",
   "metadata": {
    "tags": []
   },
   "outputs": [
    {
     "data": {
      "text/plain": [
       "['php', 'aba', 'radar', 'level']"
      ]
     },
     "execution_count": 38,
     "metadata": {},
     "output_type": "execute_result"
    }
   ],
   "source": [
    "list(filter(lambda x : x == \"\".join(reversed(x)),s))"
   ]
  },
  {
   "cell_type": "code",
   "execution_count": null,
   "id": "fe950a06-bcfe-49f4-84e8-aed6aff045de",
   "metadata": {},
   "outputs": [],
   "source": []
  }
 ],
 "metadata": {
  "kernelspec": {
   "display_name": "Python 3 (ipykernel)",
   "language": "python",
   "name": "python3"
  },
  "language_info": {
   "codemirror_mode": {
    "name": "ipython",
    "version": 3
   },
   "file_extension": ".py",
   "mimetype": "text/x-python",
   "name": "python",
   "nbconvert_exporter": "python",
   "pygments_lexer": "ipython3",
   "version": "3.11.1"
  }
 },
 "nbformat": 4,
 "nbformat_minor": 5
}
