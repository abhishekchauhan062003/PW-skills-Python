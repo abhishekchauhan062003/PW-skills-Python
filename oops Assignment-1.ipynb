{
 "cells": [
  {
   "cell_type": "markdown",
   "id": "c3dd7af9-ca70-4190-beaf-fa51af6b51e7",
   "metadata": {},
   "source": [
    "Q1"
   ]
  },
  {
   "cell_type": "code",
   "execution_count": 1,
   "id": "712cc3c6-33b6-42b8-86f0-720a12a33ac6",
   "metadata": {
    "tags": []
   },
   "outputs": [],
   "source": [
    "# class is the template consisting of different methods and variables for creating a user defined data type\n",
    "# obj is an instance of class"
   ]
  },
  {
   "cell_type": "code",
   "execution_count": 14,
   "id": "d10f89a5-1a07-42c1-8616-07fea516aa76",
   "metadata": {
    "tags": []
   },
   "outputs": [],
   "source": [
    "class Sample:     #class\n",
    "    def Say_hi(self):\n",
    "        return \"HELLO, WORLD!\""
   ]
  },
  {
   "cell_type": "code",
   "execution_count": 16,
   "id": "5643d231-02f3-4685-a781-7c80633c7e4a",
   "metadata": {
    "tags": []
   },
   "outputs": [
    {
     "data": {
      "text/plain": [
       "'HELLO, WORLD!'"
      ]
     },
     "execution_count": 16,
     "metadata": {},
     "output_type": "execute_result"
    }
   ],
   "source": [
    "obj = Sample()\n",
    "obj.Say_hi()"
   ]
  },
  {
   "cell_type": "markdown",
   "id": "507d69ca-ab06-436b-92f5-92a770ee8c18",
   "metadata": {},
   "source": [
    "Q2"
   ]
  },
  {
   "cell_type": "raw",
   "id": "247b18f0-f3af-4977-912e-8a2c5dd2dfb0",
   "metadata": {},
   "source": [
    "Four pillars of OOPS\n",
    "    1. polymorphism\n",
    "    2. encapsulation\n",
    "    3. inheritence\n",
    "    4. abstraction"
   ]
  },
  {
   "cell_type": "markdown",
   "id": "9c422ebe-44c5-41de-ab78-1547d09f5ecf",
   "metadata": {},
   "source": [
    "Q3"
   ]
  },
  {
   "cell_type": "code",
   "execution_count": 17,
   "id": "8463251c-0007-400d-81ee-567f01c1be7c",
   "metadata": {
    "tags": []
   },
   "outputs": [],
   "source": [
    "# __init__() function is used for calling constructor of a class \n",
    "# constructor of a class is used to initialise the data when object of the class is created"
   ]
  },
  {
   "cell_type": "code",
   "execution_count": 18,
   "id": "81086619-70b4-49e7-9e83-dca9757da6a1",
   "metadata": {
    "tags": []
   },
   "outputs": [
    {
     "name": "stdout",
     "output_type": "stream",
     "text": [
      "This is class A \n"
     ]
    }
   ],
   "source": [
    "class Sample1:\n",
    "    def __init__(self):\n",
    "        print(\"This is class A \")\n",
    "obj1 = Sample1()"
   ]
  },
  {
   "cell_type": "markdown",
   "id": "f1174fbf-9f3d-480d-a157-0d1751d98d88",
   "metadata": {},
   "source": [
    "Q5"
   ]
  },
  {
   "cell_type": "code",
   "execution_count": 21,
   "id": "36a70408-4df3-48f0-a96a-2069ff6a0bc3",
   "metadata": {
    "tags": []
   },
   "outputs": [],
   "source": [
    "#inheritence is the mechanism where sub-class or inherited class inherits the functions and variables from parent class"
   ]
  },
  {
   "cell_type": "raw",
   "id": "014082bb-994f-4536-bc80-4504cd4b0684",
   "metadata": {
    "tags": []
   },
   "source": [
    "a. multilevel inheritence\n",
    "b. multiple inheritence"
   ]
  },
  {
   "cell_type": "markdown",
   "id": "f3c19454-bf99-44a6-9a35-6af14c20e3bf",
   "metadata": {},
   "source": [
    "a"
   ]
  },
  {
   "cell_type": "code",
   "execution_count": 22,
   "id": "eb48cfcd-ba5f-4347-b7fa-eeadfc5f53d4",
   "metadata": {
    "tags": []
   },
   "outputs": [],
   "source": [
    "class A:\n",
    "    def hi_A(self):\n",
    "        return \"this is A\"\n",
    "class B(A):\n",
    "    def hi_B(self):\n",
    "        return \"this is B\"\n",
    "class C(B):\n",
    "    def hi_c(self):\n",
    "        return \"this is C\""
   ]
  },
  {
   "cell_type": "code",
   "execution_count": 23,
   "id": "0473985d-5d51-4c7a-a4ef-680a874c9ae1",
   "metadata": {
    "tags": []
   },
   "outputs": [],
   "source": [
    "c = C()"
   ]
  },
  {
   "cell_type": "code",
   "execution_count": 24,
   "id": "7a30e64d-2e66-4a7f-89cf-db27d9f16be5",
   "metadata": {
    "tags": []
   },
   "outputs": [
    {
     "data": {
      "text/plain": [
       "'this is A'"
      ]
     },
     "execution_count": 24,
     "metadata": {},
     "output_type": "execute_result"
    }
   ],
   "source": [
    "c.hi_A()"
   ]
  },
  {
   "cell_type": "code",
   "execution_count": 25,
   "id": "dd9afb67-2369-47b6-be74-3bb4b684d837",
   "metadata": {
    "tags": []
   },
   "outputs": [
    {
     "data": {
      "text/plain": [
       "'this is B'"
      ]
     },
     "execution_count": 25,
     "metadata": {},
     "output_type": "execute_result"
    }
   ],
   "source": [
    "c.hi_B()"
   ]
  },
  {
   "cell_type": "markdown",
   "id": "88b5f83e-0bf6-4e8f-b138-2c0e82379bdc",
   "metadata": {},
   "source": [
    "b"
   ]
  },
  {
   "cell_type": "code",
   "execution_count": 28,
   "id": "cd8cb0fd-67e4-4195-9c9d-e5e356af5a99",
   "metadata": {
    "tags": []
   },
   "outputs": [],
   "source": [
    "class A1:\n",
    "    def hi_A(self):\n",
    "        return \"this is A\"\n",
    "class B1:\n",
    "    def hi_B(self):\n",
    "        return \"this is B\"\n",
    "class C1(A1,B1):\n",
    "    def hi_c(self):\n",
    "        return \"this is C\""
   ]
  },
  {
   "cell_type": "code",
   "execution_count": 29,
   "id": "84ab6de1-6ae9-406e-b9e5-2a0b54bc4cdf",
   "metadata": {
    "tags": []
   },
   "outputs": [],
   "source": [
    "c1 = C1()"
   ]
  },
  {
   "cell_type": "code",
   "execution_count": 31,
   "id": "51de1961-1f29-4717-a883-a9087ee411ff",
   "metadata": {
    "tags": []
   },
   "outputs": [
    {
     "data": {
      "text/plain": [
       "'this is B'"
      ]
     },
     "execution_count": 31,
     "metadata": {},
     "output_type": "execute_result"
    }
   ],
   "source": [
    "\n",
    "c.hi_B()"
   ]
  },
  {
   "cell_type": "code",
   "execution_count": 32,
   "id": "e7c0d472-377b-47be-a643-eed0d2ee2db9",
   "metadata": {
    "tags": []
   },
   "outputs": [
    {
     "data": {
      "text/plain": [
       "'this is A'"
      ]
     },
     "execution_count": 32,
     "metadata": {},
     "output_type": "execute_result"
    }
   ],
   "source": [
    "c.hi_A()"
   ]
  },
  {
   "cell_type": "markdown",
   "id": "f661da05-f1b7-46c8-90e7-2bb9042f5aff",
   "metadata": {},
   "source": [
    "Q4"
   ]
  },
  {
   "cell_type": "raw",
   "id": "6049cbd4-5e5c-4ac2-ab96-2153f9d494d2",
   "metadata": {},
   "source": [
    "self is the reference variable which refers to same class variables which also diffrentiates function local variables from object variables if they have same name"
   ]
  },
  {
   "cell_type": "code",
   "execution_count": null,
   "id": "ff56a54e-85db-4210-a4b6-5e6798575798",
   "metadata": {},
   "outputs": [],
   "source": []
  }
 ],
 "metadata": {
  "kernelspec": {
   "display_name": "Python 3 (ipykernel)",
   "language": "python",
   "name": "python3"
  },
  "language_info": {
   "codemirror_mode": {
    "name": "ipython",
    "version": 3
   },
   "file_extension": ".py",
   "mimetype": "text/x-python",
   "name": "python",
   "nbconvert_exporter": "python",
   "pygments_lexer": "ipython3",
   "version": "3.11.1"
  }
 },
 "nbformat": 4,
 "nbformat_minor": 5
}
