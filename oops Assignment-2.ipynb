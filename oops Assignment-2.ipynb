{
 "cells": [
  {
   "cell_type": "markdown",
   "id": "1aaee2c3-a88a-4e1f-9963-0cd37893c21c",
   "metadata": {},
   "source": [
    "Q1"
   ]
  },
  {
   "cell_type": "code",
   "execution_count": 1,
   "id": "97ef2db1-6bdb-4991-9e3b-e809f8d0fd43",
   "metadata": {
    "tags": []
   },
   "outputs": [],
   "source": [
    "# abstraction is the method of hiding unwanted data from the user inorder to reduce complexity and simplify things"
   ]
  },
  {
   "cell_type": "code",
   "execution_count": 3,
   "id": "1ea7c555-2845-4136-8c78-6adb50fd6329",
   "metadata": {
    "tags": []
   },
   "outputs": [],
   "source": [
    "import abc\n",
    "class sample:\n",
    "    @abc.abstractmethod\n",
    "    def abstract_method(self):\n",
    "        pass\n",
    "    @abc.abstractmethod\n",
    "    def update(self):\n",
    "        pass\n",
    "class derived(sample):\n",
    "    def abstract_method(self):\n",
    "        return \" this is abstract method implemented from parent class\"\n"
   ]
  },
  {
   "cell_type": "code",
   "execution_count": 5,
   "id": "b197bd6c-12a1-4e46-af48-bf539483ed1a",
   "metadata": {
    "tags": []
   },
   "outputs": [],
   "source": [
    "s = derived()"
   ]
  },
  {
   "cell_type": "code",
   "execution_count": 7,
   "id": "52e98e78-40cd-4fd2-8a2f-944fa73c8bea",
   "metadata": {
    "tags": []
   },
   "outputs": [
    {
     "data": {
      "text/plain": [
       "' this is abstract method implemented from parent class'"
      ]
     },
     "execution_count": 7,
     "metadata": {},
     "output_type": "execute_result"
    }
   ],
   "source": [
    "s.abstract_method()"
   ]
  },
  {
   "cell_type": "markdown",
   "id": "74212003-c34f-4bbe-95ff-08089f9a23fd",
   "metadata": {},
   "source": [
    "Q2"
   ]
  },
  {
   "cell_type": "raw",
   "id": "c42ad352-d052-4e6f-aae3-8d6d7c58e1bb",
   "metadata": {},
   "source": [
    "abstraction is hiding unwanted information but encapsulation is hiding single unit or entity from outside"
   ]
  },
  {
   "cell_type": "markdown",
   "id": "cf3316a3-301b-4b7e-a3d8-1b087069063e",
   "metadata": {},
   "source": [
    "abstraction -->"
   ]
  },
  {
   "cell_type": "code",
   "execution_count": 8,
   "id": "b9adede3-11a9-4a77-b0e9-89d956ceb853",
   "metadata": {
    "tags": []
   },
   "outputs": [],
   "source": [
    "import abc\n",
    "class sample:\n",
    "    @abc.abstractmethod\n",
    "    def abstract_method(self):\n",
    "        pass\n",
    "    @abc.abstractmethod\n",
    "    def update(self):\n",
    "        pass\n",
    "class derived(sample):\n",
    "    def abstract_method(self):\n",
    "        return \" this is abstract method implemented from parent class\""
   ]
  },
  {
   "cell_type": "code",
   "execution_count": 9,
   "id": "884c00ac-8b9e-48ff-b67e-13f9de065779",
   "metadata": {
    "tags": []
   },
   "outputs": [
    {
     "data": {
      "text/plain": [
       "' this is abstract method implemented from parent class'"
      ]
     },
     "execution_count": 9,
     "metadata": {},
     "output_type": "execute_result"
    }
   ],
   "source": [
    "s = derived()\n",
    "s.abstract_method()"
   ]
  },
  {
   "cell_type": "markdown",
   "id": "7319fc15-a28d-45cc-bef1-ffee71045e66",
   "metadata": {},
   "source": [
    "encapsulation -->"
   ]
  },
  {
   "cell_type": "code",
   "execution_count": 20,
   "id": "199f1df1-b53a-4311-ac2d-e18510364aaf",
   "metadata": {
    "tags": []
   },
   "outputs": [],
   "source": [
    "class sample1:\n",
    "    def __init__(self,name,rn):\n",
    "        self.__name = name\n",
    "        self.__rn= rn\n",
    "    def ex(self):\n",
    "        return self.__name,self.__rn"
   ]
  },
  {
   "cell_type": "code",
   "execution_count": 21,
   "id": "b83f680b-3e8b-41ba-94d7-c2fbf66a0c25",
   "metadata": {
    "tags": []
   },
   "outputs": [],
   "source": [
    "s = sample1(\"Abhishek\",\"08\")"
   ]
  },
  {
   "cell_type": "code",
   "execution_count": 22,
   "id": "63ad17c1-b19b-4657-a3d4-848bca95fd6f",
   "metadata": {
    "tags": []
   },
   "outputs": [
    {
     "data": {
      "text/plain": [
       "'Abhishek'"
      ]
     },
     "execution_count": 22,
     "metadata": {},
     "output_type": "execute_result"
    }
   ],
   "source": [
    "s._sample1__name"
   ]
  },
  {
   "cell_type": "code",
   "execution_count": 23,
   "id": "84122608-4d86-465c-ae83-89a48e8a00e7",
   "metadata": {
    "tags": []
   },
   "outputs": [
    {
     "data": {
      "text/plain": [
       "('Abhishek', '08')"
      ]
     },
     "execution_count": 23,
     "metadata": {},
     "output_type": "execute_result"
    }
   ],
   "source": [
    "s.ex()"
   ]
  },
  {
   "cell_type": "markdown",
   "id": "d03feae5-a4b1-4d92-8c22-82ac268238a5",
   "metadata": {},
   "source": [
    "Q3"
   ]
  },
  {
   "cell_type": "raw",
   "id": "f3bb611d-cc13-481b-815a-fa03994309a0",
   "metadata": {},
   "source": [
    "abc stands for abstract base class which contains all the tools for using abstract class as abstract method can not be used instantialy "
   ]
  },
  {
   "cell_type": "markdown",
   "id": "87d7e588-4ac7-4b97-8f87-165fe1cded30",
   "metadata": {},
   "source": [
    "Q4"
   ]
  },
  {
   "cell_type": "raw",
   "id": "a54c3e47-5327-490e-8b84-55f510c6b965",
   "metadata": {},
   "source": [
    "data abstraction can be achieved by using abstract method and classes in our program "
   ]
  },
  {
   "cell_type": "markdown",
   "id": "2fe31e6f-ac77-459b-b2b7-0ed079841e76",
   "metadata": {},
   "source": [
    "Q5"
   ]
  },
  {
   "cell_type": "raw",
   "id": "5f8683b2-49c8-4ac6-81f9-18864aeb8f2f",
   "metadata": {
    "tags": []
   },
   "source": [
    "no, the abstract class in python can not have an instance as abstract methods are incomplete"
   ]
  },
  {
   "cell_type": "code",
   "execution_count": 24,
   "id": "1bc7db19-e613-4dae-ae0a-6fa6830d651d",
   "metadata": {
    "tags": []
   },
   "outputs": [],
   "source": [
    "import abc\n",
    "class sample:\n",
    "    @abc.abstractmethod\n",
    "    def abstract_method(self):\n",
    "        pass\n",
    "    @abc.abstractmethod\n",
    "    def update(self):\n",
    "        pass\n",
    "class derived(sample):\n",
    "    def abstract_method(self):\n",
    "        return \" this is abstract method implemented from parent class\""
   ]
  },
  {
   "cell_type": "code",
   "execution_count": 25,
   "id": "623d140a-2395-4ae6-b0c9-9d73a9bd535a",
   "metadata": {
    "tags": []
   },
   "outputs": [],
   "source": [
    "s = sample()"
   ]
  },
  {
   "cell_type": "code",
   "execution_count": 26,
   "id": "739eb680-7e6b-4c39-a9b4-19033ca9cd56",
   "metadata": {
    "tags": []
   },
   "outputs": [],
   "source": [
    "s.abstract_method()"
   ]
  },
  {
   "cell_type": "code",
   "execution_count": 27,
   "id": "e8010b00-b191-4f13-b029-6e0780020719",
   "metadata": {
    "tags": []
   },
   "outputs": [],
   "source": [
    "s.update()"
   ]
  },
  {
   "cell_type": "code",
   "execution_count": null,
   "id": "a1b0f5de-8fd3-4da3-af3e-2ddedda6836e",
   "metadata": {},
   "outputs": [],
   "source": []
  }
 ],
 "metadata": {
  "kernelspec": {
   "display_name": "Python 3 (ipykernel)",
   "language": "python",
   "name": "python3"
  },
  "language_info": {
   "codemirror_mode": {
    "name": "ipython",
    "version": 3
   },
   "file_extension": ".py",
   "mimetype": "text/x-python",
   "name": "python",
   "nbconvert_exporter": "python",
   "pygments_lexer": "ipython3",
   "version": "3.11.1"
  }
 },
 "nbformat": 4,
 "nbformat_minor": 5
}
